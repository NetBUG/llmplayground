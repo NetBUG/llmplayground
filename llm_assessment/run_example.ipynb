{
 "cells": [
  {
   "cell_type": "code",
   "execution_count": 3,
   "id": "ab7fdf60-c82e-4b5c-96a8-0e00a9d66d80",
   "metadata": {
    "scrolled": true
   },
   "outputs": [],
   "source": [
    "#!pip install -r requirements.txt"
   ]
  },
  {
   "cell_type": "code",
   "execution_count": 1,
   "id": "35498e21-3433-45cd-b08f-26d6772631bc",
   "metadata": {},
   "outputs": [
    {
     "name": "stdout",
     "output_type": "stream",
     "text": [
      "['/home/netbug/git_research/research', '/home/netbug/py310_peft/lib/python310.zip', '/home/netbug/py310_peft/lib/python3.10', '/home/netbug/py310_peft/lib/python3.10/lib-dynload', '', '/home/netbug/.local/lib/python3.10/site-packages', '__editable__.lm_eval-0.4.2.finder.__path_hook__', '/home/netbug/py310_peft/lib/python3.10/site-packages', '/home/netbug/git_research/research/lm-evaluation-harness']\n"
     ]
    },
    {
     "name": "stderr",
     "output_type": "stream",
     "text": [
      "/home/netbug/py310_peft/lib/python3.10/site-packages/tqdm/auto.py:21: TqdmWarning: IProgress not found. Please update jupyter and ipywidgets. See https://ipywidgets.readthedocs.io/en/stable/user_install.html\n",
      "  from .autonotebook import tqdm as notebook_tqdm\n"
     ]
    }
   ],
   "source": [
    "from lm_eval_tests import task_evaluate"
   ]
  },
  {
   "cell_type": "code",
   "execution_count": 2,
   "id": "dba685f2-7f4b-4289-bab7-160a590dccfe",
   "metadata": {},
   "outputs": [
    {
     "name": "stderr",
     "output_type": "stream",
     "text": [
      "Loading checkpoint shards: 100%|██████████| 2/2 [00:04<00:00,  2.07s/it]\n",
      "The attention mask and the pad token id were not set. As a consequence, you may observe unexpected behavior. Please pass your input's `attention_mask` to obtain reliable results.\n",
      "Setting `pad_token_id` to `eos_token_id`:2 for open-end generation.\n"
     ]
    },
    {
     "name": "stdout",
     "output_type": "stream",
     "text": [
      "<s> [INST] What is your favourite condiment? [/INST]Well, I'm quite partial to a good squeeze of fresh lemon juice. It adds just the right amount of zesty flavour to whatever I'm cooking up in the kitchen!</s>  [INST] Do you have mayonnaise recipes? [/INST] Certainly! Here's a simple recipe for mayonnaise that you can easily whip up in your kitchen:\n",
      "Ingredients:\n",
      "- 1 egg yolk\n",
      "- 1 tablespoon Dijon mustard\n",
      "- 1/2 teaspoon salt\n",
      "- 1/4 teaspoon black pepper\n",
      "- 1 cup vegetable oil or melted butter, room temperature\n",
      "- 2 tablespoons white wine vinegar or fresh lemon juice\n",
      "Instructions:\n",
      "1. In a blender or food processor, add the egg yolk, Dijon mustard, salt, and pepper.\n",
      "2. Slowly pour in the oil or melted butter, while the blender or food processor is running.\n",
      "3. Once the mixture is combined, add the vinegar or lemon juice and blend again.\n",
      "4. Give the mayonnaise a taste and adjust the seasoning if necessary.\n",
      "5. Chill the mayonnaise in the refrigerator for at least 30 minutes before using.\n",
      "That's it! Enjoy your homemade mayonnaise on your favorite recipes.</s>\n"
     ]
    }
   ],
   "source": [
    "from transformers import AutoModelForCausalLM, AutoTokenizer\n",
    "\n",
    "device = \"cuda:0\" # the device to load the model onto\n",
    "\n",
    "model_name = \"mistralai/Mistral-7B-Instruct-v0.1\"\n",
    "model = AutoModelForCausalLM.from_pretrained(model_name)\n",
    "tokenizer = AutoTokenizer.from_pretrained(model_name)\n",
    "\n",
    "messages = [\n",
    "    {\"role\": \"user\", \"content\": \"What is your favourite condiment?\"},\n",
    "    {\"role\": \"assistant\", \"content\": \"Well, I'm quite partial to a good squeeze of fresh lemon juice. It adds just the right amount of zesty flavour to whatever I'm cooking up in the kitchen!\"},\n",
    "    {\"role\": \"user\", \"content\": \"Do you have mayonnaise recipes?\"}\n",
    "]\n",
    "\n",
    "encodeds = tokenizer.apply_chat_template(messages, return_tensors=\"pt\")\n",
    "\n",
    "model_inputs = encodeds.to(device)\n",
    "model.to(device)\n",
    "\n",
    "generated_ids = model.generate(model_inputs, max_new_tokens=1000, do_sample=True)\n",
    "decoded = tokenizer.batch_decode(generated_ids)\n",
    "print(decoded[0])\n"
   ]
  },
  {
   "cell_type": "code",
   "execution_count": 3,
   "id": "a518e63f-5b91-43a4-8853-0e8a559e8a10",
   "metadata": {},
   "outputs": [
    {
     "name": "stderr",
     "output_type": "stream",
     "text": [
      "2024-03-27:07:20:31,509 WARNING  [huggingface.py:119] `pretrained` model kwarg is not of type `str`. Many other model arguments may be ignored. Please do not launch via accelerate or use `parallelize=True` if passing an existing model this way.\n",
      "2024-03-27:07:20:31,967 WARNING  [huggingface.py:338] Passed an already-initialized model through `pretrained`, assuming single-process call to evaluate() or custom distributed integration\n",
      "2024-03-27:07:20:41,898 WARNING  [evaluator.py:239] Overwriting default num_fewshot of arc_easy from None to 0\n",
      "100%|██████████| 2376/2376 [00:01<00:00, 1522.76it/s]\n",
      "Running loglikelihood requests: 100%|██████████| 9501/9501 [09:11<00:00, 17.22it/s]\n"
     ]
    },
    {
     "name": "stdout",
     "output_type": "stream",
     "text": [
      "| Tasks  |Version|Filter|n-shot| Metric |Value |   |Stderr|\n",
      "|--------|------:|------|-----:|--------|-----:|---|-----:|\n",
      "|arc_easy|      1|none  |     0|acc     |0.8005|±  |0.0082|\n",
      "|        |       |none  |     0|acc_norm|0.7681|±  |0.0087|\n",
      "\n"
     ]
    }
   ],
   "source": [
    "results = task_evaluate(model, \"arc_easy\")"
   ]
  },
  {
   "cell_type": "code",
   "execution_count": null,
   "id": "dbc2d96e-ad5d-4cc6-8362-8fb6cfbaa1ad",
   "metadata": {},
   "outputs": [],
   "source": []
  }
 ],
 "metadata": {
  "kernelspec": {
   "display_name": "py310_notebook",
   "language": "python",
   "name": "py310_notebook"
  },
  "language_info": {
   "codemirror_mode": {
    "name": "ipython",
    "version": 3
   },
   "file_extension": ".py",
   "mimetype": "text/x-python",
   "name": "python",
   "nbconvert_exporter": "python",
   "pygments_lexer": "ipython3",
   "version": "3.10.13"
  }
 },
 "nbformat": 4,
 "nbformat_minor": 5
}
